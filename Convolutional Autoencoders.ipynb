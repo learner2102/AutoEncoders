{
 "cells": [
  {
   "cell_type": "code",
   "execution_count": 1,
   "metadata": {},
   "outputs": [
    {
     "name": "stderr",
     "output_type": "stream",
     "text": [
      "Using TensorFlow backend.\n"
     ]
    }
   ],
   "source": [
    "from keras.datasets import mnist\n",
    "import matplotlib.pyplot as plt\n",
    "import numpy as np\n",
    "from keras.layers import Dense,Flatten ,Conv2D ,Reshape,LeakyReLU,Input,Activation,MaxPooling2D,UpSampling2D\n",
    "from keras.models import Model"
   ]
  },
  {
   "cell_type": "code",
   "execution_count": 2,
   "metadata": {},
   "outputs": [],
   "source": [
    "from keras.datasets import mnist\n",
    "(x_train, _), (x_test, _) = mnist.load_data()\n",
    "x_train = x_train.astype('float32') / 255.0\n",
    "x_test = x_test.astype('float32') / 255.0\n",
    "x_train = np.reshape(x_train, (len(x_train), 28, 28, 1))\n",
    "x_test = np.reshape(x_test, (len(x_test), 28, 28, 1))"
   ]
  },
  {
   "cell_type": "code",
   "execution_count": 3,
   "metadata": {},
   "outputs": [],
   "source": [
    "def show_digits(n,dims):\n",
    "     #original images \n",
    "    plt.figure(figsize=(10,5))\n",
    "    for i in range(n):\n",
    "        ax=plt.subplot(2,n,i+1)\n",
    "        plt.imshow(x_test[i].reshape(*dims))\n",
    "        plt.gray()    # by default in bgr , convert it into grayscale\n",
    "        ax.get_xaxis().set_visible(False)\n",
    "        ax.get_yaxis().set_visible(False)\n",
    "        if i==n/2:\n",
    "            ax.set_title(\"Original\")\n",
    "    #re-constructed images\n",
    "        ax=plt.subplot(2,n,i+n+1)\n",
    "        plt.imshow(reconstructed[i].reshape(*dims))\n",
    "        plt.gray() \n",
    "        ax.get_xaxis().set_visible(False)\n",
    "        ax.get_yaxis().set_visible(False)\n",
    "        if i==n/2:\n",
    "            ax.set_title(\"Re-constructed\")\n",
    "    plt.show()"
   ]
  },
  {
   "cell_type": "code",
   "execution_count": 4,
   "metadata": {},
   "outputs": [],
   "source": [
    "#lets add some noise \n",
    "noise=0.7\n",
    "x_train_noisy = x_train + noise* np.random.normal(loc=0.0, scale=1.0, size=x_train.shape)\n",
    "x_test_noisy = x_test + noise* np.random.normal(loc=0.0, scale=1.0, size=x_test.shape)\n",
    "x_train_noisy = np.clip(x_train_noisy, 0., 1.)\n",
    "x_test_noisy = np.clip(x_test_noisy, 0., 1.)"
   ]
  },
  {
   "cell_type": "code",
   "execution_count": 18,
   "metadata": {
    "scrolled": false
   },
   "outputs": [
    {
     "data": {
      "image/png": "[encoded data removed]",
      "text/plain": [
       "<Figure size 720x360 with 5 Axes>"
      ]
     },
     "metadata": {
      "needs_background": "light"
     },
     "output_type": "display_data"
    }
   ],
   "source": [
    "#visualize the noisy data\n",
    "plt.figure(figsize=(10,5))\n",
    "for i in range(5):\n",
    "    ax= plt.subplot(1,5, i+1)\n",
    "    plt.imshow(x_test_noisy[i].reshape(28, 28))\n",
    "    plt.gray()\n",
    "    ax.get_xaxis().set_visible(False)\n",
    "    ax.get_yaxis().set_visible(False)\n",
    "ax.set_title(\"Noisy Images\")\n",
    "plt.show()"
   ]
  },
  {
   "cell_type": "code",
   "execution_count": 6,
   "metadata": {},
   "outputs": [],
   "source": [
    "#model \n",
    "input_img=Input(shape=(28,28,1))\n",
    "x=Conv2D(32,(3,3),activation='relu',padding='same')(input_img)\n",
    "x=MaxPooling2D((2,2),padding='same')(x)\n",
    "x = Conv2D(32, (3, 3), activation='relu', padding='same')(x)\n",
    "encoded = MaxPooling2D((2, 2), padding='same')(x)\n",
    "x = Conv2D(32, (3, 3), activation='relu', padding='same')(encoded)\n",
    "x = UpSampling2D((2, 2))(x)  #opposite of maxpooling\n",
    "x = Conv2D(32, (3, 3), activation='relu', padding='same')(x)\n",
    "x = UpSampling2D((2, 2))(x)\n",
    "decoded = Conv2D(1, (3, 3), activation='sigmoid', padding='same')(x)\n",
    "autoencoder = Model(input_img, decoded)\n",
    "autoencoder.compile(optimizer='adam', loss='binary_crossentropy')"
   ]
  },
  {
   "cell_type": "code",
   "execution_count": 7,
   "metadata": {},
   "outputs": [
    {
     "name": "stdout",
     "output_type": "stream",
     "text": [
      "Epoch 1/25\n",
      "60000/60000 [==============================] - 159s 3ms/step - loss: 0.1533\n",
      "Epoch 2/25\n",
      "60000/60000 [==============================] - 156s 3ms/step - loss: 0.1290\n",
      "Epoch 3/25\n",
      "60000/60000 [==============================] - 149s 2ms/step - loss: 0.1252\n",
      "Epoch 4/25\n",
      "60000/60000 [==============================] - 150s 3ms/step - loss: 0.1230\n",
      "Epoch 5/25\n",
      "60000/60000 [==============================] - 150s 2ms/step - loss: 0.1215\n",
      "Epoch 6/25\n",
      "60000/60000 [==============================] - 149s 2ms/step - loss: 0.1206\n",
      "Epoch 7/25\n",
      "60000/60000 [==============================] - 149s 2ms/step - loss: 0.1199\n",
      "Epoch 8/25\n",
      "60000/60000 [==============================] - 150s 2ms/step - loss: 0.1194\n",
      "Epoch 9/25\n",
      "60000/60000 [==============================] - 150s 2ms/step - loss: 0.1190\n",
      "Epoch 10/25\n",
      "60000/60000 [==============================] - 153s 3ms/step - loss: 0.1187\n",
      "Epoch 11/25\n",
      "60000/60000 [==============================] - 159s 3ms/step - loss: 0.1184\n",
      "Epoch 12/25\n",
      "60000/60000 [==============================] - 157s 3ms/step - loss: 0.1182\n",
      "Epoch 13/25\n",
      "60000/60000 [==============================] - 158s 3ms/step - loss: 0.1181\n",
      "Epoch 14/25\n",
      "60000/60000 [==============================] - 156s 3ms/step - loss: 0.1179\n",
      "Epoch 15/25\n",
      "60000/60000 [==============================] - 152s 3ms/step - loss: 0.1178\n",
      "Epoch 16/25\n",
      "60000/60000 [==============================] - 152s 3ms/step - loss: 0.1177\n",
      "Epoch 17/25\n",
      "60000/60000 [==============================] - 156s 3ms/step - loss: 0.1175\n",
      "Epoch 18/25\n",
      "60000/60000 [==============================] - 154s 3ms/step - loss: 0.1174\n",
      "Epoch 19/25\n",
      "60000/60000 [==============================] - 158s 3ms/step - loss: 0.1174\n",
      "Epoch 20/25\n",
      "60000/60000 [==============================] - 155s 3ms/step - loss: 0.1173\n",
      "Epoch 21/25\n",
      "60000/60000 [==============================] - 158s 3ms/step - loss: 0.1172\n",
      "Epoch 22/25\n",
      "60000/60000 [==============================] - 164s 3ms/step - loss: 0.1171\n",
      "Epoch 23/25\n",
      "60000/60000 [==============================] - 160s 3ms/step - loss: 0.1171\n",
      "Epoch 24/25\n",
      "60000/60000 [==============================] - 156s 3ms/step - loss: 0.1170\n",
      "Epoch 25/25\n",
      "60000/60000 [==============================] - 155s 3ms/step - loss: 0.1170\n"
     ]
    },
    {
     "data": {
      "text/plain": [
       "<keras.callbacks.callbacks.History at 0x23803b26160>"
      ]
     },
     "execution_count": 7,
     "metadata": {},
     "output_type": "execute_result"
    }
   ],
   "source": [
    "autoencoder.fit(x_train_noisy, x_train,\n",
    "epochs=25)"
   ]
  },
  {
   "cell_type": "code",
   "execution_count": 19,
   "metadata": {},
   "outputs": [],
   "source": [
    "reconstructed = autoencoder.predict(x_test)"
   ]
  },
  {
   "cell_type": "code",
   "execution_count": 20,
   "metadata": {},
   "outputs": [
    {
     "data": {
      "image/png": "[encoded data removed]",
      "text/plain": [
       "<Figure size 720x360 with 10 Axes>"
      ]
     },
     "metadata": {
      "needs_background": "light"
     },
     "output_type": "display_data"
    }
   ],
   "source": [
    "show_digits(5,(28,28))"
   ]
  },
  {
   "cell_type": "code",
   "execution_count": null,
   "metadata": {},
   "outputs": [],
   "source": []
  }
 ],
 "metadata": {
  "kernelspec": {
   "display_name": "Python 3",
   "language": "python",
   "name": "python3"
  },
  "language_info": {
   "codemirror_mode": {
    "name": "ipython",
    "version": 3
   },
   "file_extension": ".py",
   "mimetype": "text/x-python",
   "name": "python",
   "nbconvert_exporter": "python",
   "pygments_lexer": "ipython3",
   "version": "3.7.3"
  }
 },
 "nbformat": 4,
 "nbformat_minor": 2
}
