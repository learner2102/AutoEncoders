{
 "cells": [
  {
   "cell_type": "code",
   "execution_count": 21,
   "metadata": {},
   "outputs": [],
   "source": [
    "from keras.datasets import mnist\n",
    "import matplotlib.pyplot as plt\n",
    "import numpy as np\n",
    "from keras.layers import Dense,Flatten ,Conv2D ,Reshape,LeakyReLU,Input,Activation,MaxPooling2D,UpSampling2D\n",
    "from keras.models import Model"
   ]
  },
  {
   "cell_type": "code",
   "execution_count": 22,
   "metadata": {},
   "outputs": [],
   "source": [
    "from keras.datasets import mnist\n",
    "(x_train, _), (x_test, _) = mnist.load_data()\n",
    "x_train = x_train.astype('float32') / 255.0\n",
    "x_test = x_test.astype('float32') / 255.0\n",
    "x_train = np.reshape(x_train, (len(x_train), 28, 28, 1))\n",
    "x_test = np.reshape(x_test, (len(x_test), 28, 28, 1))"
   ]
  },
  {
   "cell_type": "code",
   "execution_count": 23,
   "metadata": {},
   "outputs": [],
   "source": [
    "def show_digits(n,dims):\n",
    "     #original images \n",
    "    plt.figure(figsize=(10,5))\n",
    "    for i in range(n):\n",
    "        ax=plt.subplot(2,n,i+1)\n",
    "        plt.imshow(x_test[i].reshape(*dims))\n",
    "        plt.gray()    # by default in bgr , convert it into grayscale\n",
    "        ax.get_xaxis().set_visible(False)\n",
    "        ax.get_yaxis().set_visible(False)\n",
    "        if i==n/2:\n",
    "            ax.set_title(\"Original\")\n",
    "    #re-constructed images\n",
    "        ax=plt.subplot(2,n,i+n+1)\n",
    "        plt.imshow(reconstructed[i].reshape(*dims))\n",
    "        plt.gray() \n",
    "        ax.get_xaxis().set_visible(False)\n",
    "        ax.get_yaxis().set_visible(False)\n",
    "        if i==n/2:\n",
    "            ax.set_title(\"Re-constructed\")\n",
    "    plt.show()"
   ]
  },
  {
   "cell_type": "code",
   "execution_count": 24,
   "metadata": {},
   "outputs": [],
   "source": [
    "#lets add some noise \n",
    "noise=0.7\n",
    "x_train_noisy = x_train + noise* np.random.normal(loc=0.0, scale=1.0, size=x_train.shape)\n",
    "x_test_noisy = x_test + noise* np.random.normal(loc=0.0, scale=1.0, size=x_test.shape)\n",
    "x_train_noisy = np.clip(x_train_noisy, 0., 1.)\n",
    "x_test_noisy = np.clip(x_test_noisy, 0., 1.)"
   ]
  },
  {
   "cell_type": "code",
   "execution_count": 25,
   "metadata": {
    "scrolled": false
   },
   "outputs": [
    {
     "data": {
      "image/png": "[encoded data removed]",
      "text/plain": [
       "<Figure size 720x360 with 5 Axes>"
      ]
     },
     "metadata": {
      "needs_background": "light"
     },
     "output_type": "display_data"
    }
   ],
   "source": [
    "#visualize the noisy data\n",
    "plt.figure(figsize=(10,5))\n",
    "for i in range(5):\n",
    "    ax= plt.subplot(1,5, i+1)\n",
    "    plt.imshow(x_test_noisy[i].reshape(28, 28))\n",
    "    plt.gray()\n",
    "    ax.get_xaxis().set_visible(False)\n",
    "    ax.get_yaxis().set_visible(False)\n",
    "ax.set_title(\"Noisy Images\")\n",
    "plt.show()"
   ]
  },
  {
   "cell_type": "code",
   "execution_count": 26,
   "metadata": {},
   "outputs": [],
   "source": [
    "#model \n",
    "input_img=Input(shape=(28,28,1))\n",
    "x=Conv2D(32,(3,3),activation='relu',padding='same')(input_img)\n",
    "x=MaxPooling2D((2,2),padding='same')(x)\n",
    "x = Conv2D(32, (3, 3), activation='relu', padding='same')(x)\n",
    "encoded = MaxPooling2D((2, 2), padding='same')(x)\n",
    "x = Conv2D(32, (3, 3), activation='relu', padding='same')(encoded)\n",
    "x = UpSampling2D((2, 2))(x)  #opposite of maxpooling\n",
    "x = Conv2D(32, (3, 3), activation='relu', padding='same')(x)\n",
    "x = UpSampling2D((2, 2))(x)\n",
    "decoded = Conv2D(1, (3, 3), activation='sigmoid', padding='same')(x)\n",
    "autoencoder = Model(input_img, decoded)\n",
    "autoencoder.compile(optimizer='adam', loss='binary_crossentropy')"
   ]
  },
  {
   "cell_type": "code",
   "execution_count": 28,
   "metadata": {},
   "outputs": [
    {
     "name": "stdout",
     "output_type": "stream",
     "text": [
      "Epoch 1/100\n",
      "60000/60000 [==============================] - 145s 2ms/step - loss: 0.1314\n",
      "Epoch 2/100\n",
      "60000/60000 [==============================] - 147s 2ms/step - loss: 0.1262\n",
      "Epoch 3/100\n",
      "60000/60000 [==============================] - 142s 2ms/step - loss: 0.1238\n",
      "Epoch 4/100\n",
      "60000/60000 [==============================] - 142s 2ms/step - loss: 0.1224\n",
      "Epoch 5/100\n",
      "60000/60000 [==============================] - 145s 2ms/step - loss: 0.1213\n",
      "Epoch 6/100\n",
      "60000/60000 [==============================] - 147s 2ms/step - loss: 0.1207\n",
      "Epoch 7/100\n",
      "60000/60000 [==============================] - 147s 2ms/step - loss: 0.1201\n",
      "Epoch 8/100\n",
      "60000/60000 [==============================] - 143s 2ms/step - loss: 0.1196\n",
      "Epoch 9/100\n",
      "60000/60000 [==============================] - 131s 2ms/step - loss: 0.1193 2s -\n",
      "Epoch 10/100\n",
      "60000/60000 [==============================] - 116s 2ms/step - loss: 0.1191\n",
      "Epoch 11/100\n",
      "60000/60000 [==============================] - 129s 2ms/step - loss: 0.1188\n",
      "Epoch 12/100\n",
      "60000/60000 [==============================] - 135s 2ms/step - loss: 0.1186\n",
      "Epoch 13/100\n",
      "60000/60000 [==============================] - 152s 3ms/step - loss: 0.1184\n",
      "Epoch 14/100\n",
      "60000/60000 [==============================] - 154s 3ms/step - loss: 0.1183\n",
      "Epoch 15/100\n",
      "60000/60000 [==============================] - 159s 3ms/step - loss: 0.1183\n",
      "Epoch 16/100\n",
      "60000/60000 [==============================] - 158s 3ms/step - loss: 0.1181\n",
      "Epoch 17/100\n",
      "60000/60000 [==============================] - 155s 3ms/step - loss: 0.1180\n",
      "Epoch 18/100\n",
      "60000/60000 [==============================] - 153s 3ms/step - loss: 0.1179\n",
      "Epoch 19/100\n",
      "60000/60000 [==============================] - 158s 3ms/step - loss: 0.1178\n",
      "Epoch 20/100\n",
      "60000/60000 [==============================] - 156s 3ms/step - loss: 0.1178\n",
      "Epoch 21/100\n",
      "60000/60000 [==============================] - 157s 3ms/step - loss: 0.1177\n",
      "Epoch 22/100\n",
      "60000/60000 [==============================] - 155s 3ms/step - loss: 0.1177\n",
      "Epoch 23/100\n",
      "60000/60000 [==============================] - 152s 3ms/step - loss: 0.1176\n",
      "Epoch 24/100\n",
      "60000/60000 [==============================] - 159s 3ms/step - loss: 0.1175\n",
      "Epoch 25/100\n",
      "60000/60000 [==============================] - 154s 3ms/step - loss: 0.1174\n",
      "Epoch 26/100\n",
      "60000/60000 [==============================] - 155s 3ms/step - loss: 0.1174\n",
      "Epoch 27/100\n",
      "60000/60000 [==============================] - 152s 3ms/step - loss: 0.1173\n",
      "Epoch 28/100\n",
      "60000/60000 [==============================] - 152s 3ms/step - loss: 0.1173\n",
      "Epoch 29/100\n",
      "60000/60000 [==============================] - 154s 3ms/step - loss: 0.1173\n",
      "Epoch 30/100\n",
      "60000/60000 [==============================] - 153s 3ms/step - loss: 0.1172\n",
      "Epoch 31/100\n",
      "60000/60000 [==============================] - 153s 3ms/step - loss: 0.1171\n",
      "Epoch 32/100\n",
      "60000/60000 [==============================] - 154s 3ms/step - loss: 0.1171\n",
      "Epoch 33/100\n",
      "60000/60000 [==============================] - 157s 3ms/step - loss: 0.1171\n",
      "Epoch 34/100\n",
      "60000/60000 [==============================] - 150s 3ms/step - loss: 0.1170\n",
      "Epoch 35/100\n",
      "60000/60000 [==============================] - 152s 3ms/step - loss: 0.1170\n",
      "Epoch 36/100\n",
      "60000/60000 [==============================] - 155s 3ms/step - loss: 0.1170\n",
      "Epoch 37/100\n",
      "60000/60000 [==============================] - 155s 3ms/step - loss: 0.1169\n",
      "Epoch 38/100\n",
      "60000/60000 [==============================] - 156s 3ms/step - loss: 0.1169\n",
      "Epoch 39/100\n",
      "60000/60000 [==============================] - 153s 3ms/step - loss: 0.1169\n",
      "Epoch 40/100\n",
      "60000/60000 [==============================] - 154s 3ms/step - loss: 0.1169\n",
      "Epoch 41/100\n",
      "60000/60000 [==============================] - 154s 3ms/step - loss: 0.1169\n",
      "Epoch 42/100\n",
      "60000/60000 [==============================] - 155s 3ms/step - loss: 0.1168\n",
      "Epoch 43/100\n",
      "60000/60000 [==============================] - 155s 3ms/step - loss: 0.1168\n",
      "Epoch 44/100\n",
      "60000/60000 [==============================] - 155s 3ms/step - loss: 0.1168\n",
      "Epoch 45/100\n",
      "60000/60000 [==============================] - 154s 3ms/step - loss: 0.1168\n",
      "Epoch 46/100\n",
      "60000/60000 [==============================] - 154s 3ms/step - loss: 0.1167\n",
      "Epoch 47/100\n",
      "60000/60000 [==============================] - 156s 3ms/step - loss: 0.1167\n",
      "Epoch 48/100\n",
      "60000/60000 [==============================] - 159s 3ms/step - loss: 0.1167\n",
      "Epoch 49/100\n",
      "60000/60000 [==============================] - 158s 3ms/step - loss: 0.1167\n",
      "Epoch 50/100\n",
      "60000/60000 [==============================] - 158s 3ms/step - loss: 0.1166 0s - loss: 0.1\n",
      "Epoch 51/100\n",
      "60000/60000 [==============================] - 161s 3ms/step - loss: 0.1166\n",
      "Epoch 52/100\n",
      "60000/60000 [==============================] - 163s 3ms/step - loss: 0.1166\n",
      "Epoch 53/100\n",
      "60000/60000 [==============================] - 161s 3ms/step - loss: 0.1166\n",
      "Epoch 54/100\n",
      "60000/60000 [==============================] - 150s 2ms/step - loss: 0.1166\n",
      "Epoch 55/100\n",
      "60000/60000 [==============================] - 151s 3ms/step - loss: 0.1166\n",
      "Epoch 56/100\n",
      "60000/60000 [==============================] - 152s 3ms/step - loss: 0.1166\n",
      "Epoch 57/100\n",
      "60000/60000 [==============================] - 151s 3ms/step - loss: 0.1165\n",
      "Epoch 58/100\n",
      "60000/60000 [==============================] - 152s 3ms/step - loss: 0.1165\n",
      "Epoch 59/100\n",
      "60000/60000 [==============================] - 151s 3ms/step - loss: 0.1165\n",
      "Epoch 60/100\n",
      "60000/60000 [==============================] - 151s 3ms/step - loss: 0.1165\n",
      "Epoch 61/100\n",
      "60000/60000 [==============================] - 151s 3ms/step - loss: 0.1165\n",
      "Epoch 62/100\n",
      "60000/60000 [==============================] - 151s 3ms/step - loss: 0.1165\n",
      "Epoch 63/100\n",
      "60000/60000 [==============================] - 147s 2ms/step - loss: 0.1165\n",
      "Epoch 64/100\n",
      "60000/60000 [==============================] - 151s 3ms/step - loss: 0.1165\n",
      "Epoch 65/100\n",
      "60000/60000 [==============================] - 154s 3ms/step - loss: 0.1164\n",
      "Epoch 66/100\n",
      "60000/60000 [==============================] - 151s 3ms/step - loss: 0.1164\n",
      "Epoch 67/100\n",
      "60000/60000 [==============================] - 149s 2ms/step - loss: 0.1164\n",
      "Epoch 68/100\n",
      "60000/60000 [==============================] - 153s 3ms/step - loss: 0.1164\n",
      "Epoch 69/100\n",
      "60000/60000 [==============================] - 10316s 172ms/step - loss: 0.1164\n",
      "Epoch 70/100\n",
      "60000/60000 [==============================] - 90s 2ms/step - loss: 0.1164: 0s - lo\n",
      "Epoch 71/100\n",
      "60000/60000 [==============================] - 112s 2ms/step - loss: 0.1164\n",
      "Epoch 72/100\n",
      "60000/60000 [==============================] - 114s 2ms/step - loss: 0.1164\n",
      "Epoch 73/100\n",
      "60000/60000 [==============================] - 111s 2ms/step - loss: 0.1164\n",
      "Epoch 74/100\n",
      "60000/60000 [==============================] - 112s 2ms/step - loss: 0.1164\n",
      "Epoch 75/100\n",
      "60000/60000 [==============================] - 113s 2ms/step - loss: 0.1164\n",
      "Epoch 76/100\n",
      "60000/60000 [==============================] - 116s 2ms/step - loss: 0.1164\n",
      "Epoch 77/100\n",
      "60000/60000 [==============================] - 132s 2ms/step - loss: 0.1163\n",
      "Epoch 78/100\n",
      "60000/60000 [==============================] - 148s 2ms/step - loss: 0.1164\n",
      "Epoch 79/100\n",
      "60000/60000 [==============================] - 143s 2ms/step - loss: 0.1164\n",
      "Epoch 80/100\n",
      "60000/60000 [==============================] - 137s 2ms/step - loss: 0.1163\n",
      "Epoch 81/100\n",
      "60000/60000 [==============================] - 144s 2ms/step - loss: 0.1163\n",
      "Epoch 82/100\n",
      "60000/60000 [==============================] - 151s 3ms/step - loss: 0.1163\n",
      "Epoch 83/100\n",
      "60000/60000 [==============================] - 146s 2ms/step - loss: 0.1162\n",
      "Epoch 84/100\n",
      "60000/60000 [==============================] - 158s 3ms/step - loss: 0.1163 1s  - ETA: 0s - loss: 0.1\n",
      "Epoch 85/100\n",
      "60000/60000 [==============================] - 168s 3ms/step - loss: 0.1163\n",
      "Epoch 86/100\n",
      "60000/60000 [==============================] - 148s 2ms/step - loss: 0.1163\n",
      "Epoch 87/100\n",
      "60000/60000 [==============================] - 140s 2ms/step - loss: 0.1163\n",
      "Epoch 88/100\n",
      "60000/60000 [==============================] - 141s 2ms/step - loss: 0.1163\n",
      "Epoch 89/100\n",
      "60000/60000 [==============================] - 141s 2ms/step - loss: 0.1163\n",
      "Epoch 90/100\n",
      "60000/60000 [==============================] - 140s 2ms/step - loss: 0.1163\n",
      "Epoch 91/100\n",
      "60000/60000 [==============================] - 138s 2ms/step - loss: 0.1163\n",
      "Epoch 92/100\n"
     ]
    },
    {
     "name": "stdout",
     "output_type": "stream",
     "text": [
      "60000/60000 [==============================] - 140s 2ms/step - loss: 0.1162\n",
      "Epoch 93/100\n",
      "60000/60000 [==============================] - 153s 3ms/step - loss: 0.1163\n",
      "Epoch 94/100\n",
      "60000/60000 [==============================] - 160s 3ms/step - loss: 0.1163\n",
      "Epoch 95/100\n",
      "60000/60000 [==============================] - 157s 3ms/step - loss: 0.1163 0s - l\n",
      "Epoch 96/100\n",
      "60000/60000 [==============================] - 170s 3ms/step - loss: 0.1162\n",
      "Epoch 97/100\n",
      "60000/60000 [==============================] - 152s 3ms/step - loss: 0.1162\n",
      "Epoch 98/100\n",
      "60000/60000 [==============================] - 152s 3ms/step - loss: 0.1162\n",
      "Epoch 99/100\n",
      "60000/60000 [==============================] - 151s 3ms/step - loss: 0.1162\n",
      "Epoch 100/100\n",
      "60000/60000 [==============================] - 157s 3ms/step - loss: 0.1162\n"
     ]
    },
    {
     "data": {
      "text/plain": [
       "<keras.callbacks.callbacks.History at 0x23807858630>"
      ]
     },
     "execution_count": 28,
     "metadata": {},
     "output_type": "execute_result"
    }
   ],
   "source": [
    "autoencoder.fit(x_train_noisy, x_train,\n",
    "epochs=100)"
   ]
  },
  {
   "cell_type": "code",
   "execution_count": 29,
   "metadata": {},
   "outputs": [],
   "source": [
    "reconstructed = autoencoder.predict(x_test)"
   ]
  },
  {
   "cell_type": "code",
   "execution_count": 31,
   "metadata": {},
   "outputs": [
    {
     "data": {
      "image/png": "[encoded data removed]",
      "text/plain": [
       "<Figure size 720x360 with 10 Axes>"
      ]
     },
     "metadata": {
      "needs_background": "light"
     },
     "output_type": "display_data"
    }
   ],
   "source": [
    "show_digits(5,(28,28))"
   ]
  },
  {
   "cell_type": "code",
   "execution_count": null,
   "metadata": {},
   "outputs": [],
   "source": []
  }
 ],
 "metadata": {
  "kernelspec": {
   "display_name": "Python 3",
   "language": "python",
   "name": "python3"
  },
  "language_info": {
   "codemirror_mode": {
    "name": "ipython",
    "version": 3
   },
   "file_extension": ".py",
   "mimetype": "text/x-python",
   "name": "python",
   "nbconvert_exporter": "python",
   "pygments_lexer": "ipython3",
   "version": "3.7.3"
  }
 },
 "nbformat": 4,
 "nbformat_minor": 2
}
